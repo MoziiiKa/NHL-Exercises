{
 "cells": [
  {
   "cell_type": "code",
   "execution_count": 1,
   "metadata": {
    "nbgrader": {
     "grade": false,
     "grade_id": "16dd0e54-1177-41f7-a262-2b4c8bf37c63",
     "locked": false,
     "points": 1,
     "schema_version": 3,
     "solution": false,
     "task": false
    }
   },
   "outputs": [],
   "source": [
    "import csv\n",
    "import numpy as np\n",
    "from typing import Set,Tuple, List\n",
    "import torch\n",
    "import torch.utils\n",
    "import torch.utils.data\n",
    "import torch.nn as nn\n",
    "import torchvision\n",
    "NoneType = type(None)\n",
    "import matplotlib.pyplot as plt\n",
    "from IPython.display import display, clear_output\n",
    "from PIL import Image\n",
    "import torchvision.transforms.functional as TF\n",
    "from torchvision.models import vgg11\n",
    "from torchvision.models import mobilenet_v2\n",
    "import torchvision.transforms as transforms\n",
    "import time\n",
    "import unittest\n",
    "import os\n",
    "import csv\n"
   ]
  },
  {
   "cell_type": "markdown",
   "metadata": {
    "nbgrader": {
     "grade": false,
     "grade_id": "cc882a7b-ee15-441c-8f29-7a88334928d4",
     "locked": true,
     "points": 1,
     "schema_version": 3,
     "solution": false,
     "task": false
    }
   },
   "source": [
    "<h1 id=\"exercise-1\"><strong>Exercise 1 Solution</strong></h1>\n"
   ]
  },
  {
   "cell_type": "markdown",
   "metadata": {},
   "source": [
    "## **Problem**\n",
    "\n",
    "1. **Sets Are Unordered**: The primary issue is that sets in Python are unordered collections. This means there's no guaranteed order for the elements, and thus, indexing a set directly as if it had a consistent order (like a list or a tuple) is not possible. The loop iteration over **`fruits`** set does not guarantee that the fruits will be encountered in the same order each time the loop runs. Therefore, attempting to access elements by an index (**`fruit_id`** in this case) does not work as intended.\n",
    "2. **Incorrect Expectation of Order**: The expectation that indices 1, 3, and 4 would correspond to 'orange', 'kiwi', and 'strawberry', respectively, is flawed because sets do not maintain elements in any specific order.\n",
    "\n",
    "## **Solutions**\n",
    "\n",
    "To fix the issue, we need to convert the set into a data structure that supports indexing. The most straightforward approach is to convert the set to a list, which maintains order. Here's how we can modify the function:"
   ]
  },
  {
   "cell_type": "code",
   "execution_count": 8,
   "metadata": {},
   "outputs": [],
   "source": [
    "def id_to_fruit(fruit_id: int, fruits: set) -> str:\n",
    "    \"\"\"\n",
    "    Returns the name of a fruit from a set, based on a numerical index.\n",
    "    \n",
    "    This function converts the unordered set of fruits into a list to enable indexing.\n",
    "    It then returns the fruit name at the specified index. If the index is out of range,\n",
    "    it raises an IndexError.\n",
    "    \n",
    "    Parameters:\n",
    "    - fruit_id: An integer representing the index of the fruit to retrieve.\n",
    "    - fruits: A set containing fruit names as strings.\n",
    "    \n",
    "    Returns:\n",
    "    - The name of the fruit at the given index.\n",
    "    \n",
    "    Raises:\n",
    "    - IndexError: If the fruit_id is out of the valid range.\n",
    "    \"\"\"\n",
    "    \n",
    "    # Convert the unordered set to a list to utilize indexing\n",
    "    fruits_list = list(fruits)\n",
    "\n",
    "    print(\"Current fruits list:\", fruits_list)\n",
    "    \n",
    "    # Check if the provided index is within the bounds of the list\n",
    "    if fruit_id < 0 or fruit_id >= len(fruits_list):\n",
    "        # Raise an IndexError if the index is out of range\n",
    "        raise IndexError(\"fruit_id is out of range\")\n",
    "    \n",
    "    # Return the fruit name at the specified index\n",
    "    return fruits_list[fruit_id]\n"
   ]
  },
  {
   "cell_type": "code",
   "execution_count": 9,
   "metadata": {},
   "outputs": [
    {
     "name": "stdout",
     "output_type": "stream",
     "text": [
      "Current fruits list: ['strawberry', 'apple', 'melon', 'kiwi', 'orange']\n",
      "Current fruits list: ['strawberry', 'apple', 'melon', 'kiwi', 'orange']\n",
      "Current fruits list: ['strawberry', 'apple', 'melon', 'kiwi', 'orange']\n"
     ]
    }
   ],
   "source": [
    "name1 = id_to_fruit(1, {\"apple\", \"orange\", \"melon\", \"kiwi\", \"strawberry\"})\n",
    "name3 = id_to_fruit(3, {\"apple\", \"orange\", \"melon\", \"kiwi\", \"strawberry\"})\n",
    "name4 = id_to_fruit(4, {\"apple\", \"orange\", \"melon\", \"kiwi\", \"strawberry\"})"
   ]
  },
  {
   "cell_type": "code",
   "execution_count": 10,
   "metadata": {},
   "outputs": [
    {
     "name": "stdout",
     "output_type": "stream",
     "text": [
      "Fruit at index 1: apple\n",
      "Fruit at index 3: kiwi\n",
      "Fruit at index 4: orange\n"
     ]
    }
   ],
   "source": [
    "# Print the outputs\n",
    "print(\"Fruit at index 1:\", name1)\n",
    "print(\"Fruit at index 3:\", name3)\n",
    "print(\"Fruit at index 4:\", name4)"
   ]
  },
  {
   "cell_type": "markdown",
   "metadata": {},
   "source": [
    "## Unit Test\n",
    "\n",
    "Consider implementing the following scenarios for comprehensive testing:\n",
    "\n",
    "1. **Verify Correct Retrieval**: Confirm that the method accurately returns the name of the fruit corresponding to a given, valid index.\n",
    "2. **Boundary Condition Check**: Ensure the method appropriately signals an error when attempting to access a fruit with an index beyond the available range, expecting a **`ValueError`**.\n",
    "3. **Handling of No Input**: Test the method's response to receiving an empty collection of fruits to ensure it behaves as intended.\n",
    "4. **Negative Index Evaluation**: As the method's specifications do not account for negative indices, it's crucial to confirm that it properly triggers a **`ValueError`** under such conditions.\n"
   ]
  },
  {
   "cell_type": "code",
   "execution_count": 11,
   "metadata": {},
   "outputs": [],
   "source": [
    "class TestIdToFruitFunction(unittest.TestCase):\n",
    "    \"\"\"\n",
    "    A set of unit tests for the id_to_fruit function to verify its correctness\n",
    "    under various conditions including valid indices, out-of-bounds indices,\n",
    "    and empty input sets.\n",
    "    \"\"\"\n",
    "    \n",
    "    def test_valid_index(self):\n",
    "        \"\"\"\n",
    "        Test the function with a valid index to ensure it returns the correct fruit.\n",
    "        \"\"\"\n",
    "        # Define a set of fruits\n",
    "        fruits = {\"apple\", \"orange\", \"melon\", \"kiwi\", \"strawberry\"}\n",
    "        \n",
    "        # Assuming consistent order; this may need adjustment\n",
    "        expected_fruit = list(fruits)[1]\n",
    "        \n",
    "        # Assert that the function returns the expected fruit for a valid index\n",
    "        self.assertEqual(id_to_fruit(1, fruits), expected_fruit)\n",
    "\n",
    "    def test_index_out_of_bounds(self):\n",
    "        \"\"\"\n",
    "        Test the function with an index that is out of bounds to ensure it raises IndexError.\n",
    "        \"\"\"\n",
    "        # Define a smaller set of fruits\n",
    "        fruits = {\"apple\", \"orange\", \"melon\"}\n",
    "        \n",
    "        # Assert that the function raises an IndexError for an out-of-bounds index\n",
    "        with self.assertRaises(IndexError):\n",
    "            id_to_fruit(3, fruits)\n",
    "\n",
    "    def test_empty_set(self):\n",
    "        \"\"\"\n",
    "        Test the function with an empty set to ensure it properly raises an IndexError.\n",
    "        \"\"\"\n",
    "        # Define an empty set of fruits\n",
    "        fruits = set()\n",
    "        \n",
    "        # Assert that the function raises an IndexError when the set is empty\n",
    "        with self.assertRaises(IndexError):\n",
    "            id_to_fruit(0, fruits)\n",
    "\n",
    "    def test_negative_index(self):\n",
    "        \"\"\"\n",
    "        Test the function with a negative index to ensure it raises an IndexError.\n",
    "        \"\"\"\n",
    "        # Define a set of fruits\n",
    "        fruits = {\"apple\", \"orange\", \"melon\"}\n",
    "        \n",
    "        # Assert that the function raises an IndexError for a negative index\n",
    "        with self.assertRaises(IndexError):\n",
    "            id_to_fruit(-1, fruits)\n"
   ]
  },
  {
   "cell_type": "code",
   "execution_count": 25,
   "metadata": {},
   "outputs": [
    {
     "name": "stderr",
     "output_type": "stream",
     "text": [
      "....\n",
      "----------------------------------------------------------------------\n",
      "Ran 4 tests in 0.006s\n",
      "\n",
      "OK\n"
     ]
    },
    {
     "name": "stdout",
     "output_type": "stream",
     "text": [
      "Current fruits list: []\n",
      "Current fruits list: ['apple', 'orange', 'melon']\n",
      "Current fruits list: ['apple', 'orange', 'melon']\n",
      "Current fruits list: ['strawberry', 'apple', 'melon', 'kiwi', 'orange']\n"
     ]
    }
   ],
   "source": [
    "# Running the unit test in a Jupyter Notebook environment\n",
    "if __name__ == '__main__':\n",
    "    unittest.main(argv=['', 'TestIdToFruitFunction'], exit=False)\n"
   ]
  },
  {
   "cell_type": "markdown",
   "metadata": {},
   "source": [
    "------------"
   ]
  },
  {
   "cell_type": "markdown",
   "metadata": {
    "nbgrader": {
     "grade": false,
     "grade_id": "ae288313-4e91-4a31-8c2d-dc06c7b65a74",
     "locked": true,
     "points": 1,
     "schema_version": 3,
     "solution": false,
     "task": false
    }
   },
   "source": [
    "<h1 id=\"exercise-2\"><strong>Exercise 2 Solution</strong></h1>\n"
   ]
  },
  {
   "cell_type": "markdown",
   "metadata": {},
   "source": [
    "## Concerns and Remedy\n",
    "\n",
    "Let's dissect the concerns and the remedy:\n",
    "\n",
    "1. **Identified Flaw**:\n",
    "    - In the original snippet, **`coords[:, 0], coords[:, 1], coords[:, 2], coords[:, 3], = coords[:, 1], coords[:, 1], coords[:, 3], coords[:, 2]`** inaccurately reassigns the coordinates.\n",
    "    - Notably, the y-coordinate for the first point (**`y11`**) is erroneously copied into both the initial and final x-coordinate positions (**`x11`** and **`x12`**), which distorts the intended swap functionality.\n",
    "2. **Rectification Strategy**:\n",
    "    - To ensure accurate swapping, it's crucial to separately and correctly reassign the **`x`** and **`y`** coordinates. The initial attempt overlooks the necessity of maintaining the original x-coordinates' values before they're replaced by y-coordinates, leading to a loss of the intended x-values.\n",
    "\n",
    "## Corrected Implementation"
   ]
  },
  {
   "cell_type": "code",
   "execution_count": 13,
   "metadata": {},
   "outputs": [],
   "source": [
    "def swap(coords: np.ndarray):\n",
    "    \"\"\"\n",
    "    Adjusts the provided numpy array 'coords' by swapping the x and y coordinates\n",
    "    within each bounding box, ensuring x11 swaps with y11 and x12 with y12, without altering class ids.\n",
    "    \"\"\"\n",
    "    # Secure a copy of the original x coordinates to preserve their values.\n",
    "    original_x = coords[:, [0, 2]].copy()\n",
    "    # Execute the coordinate swap: Assign y-values to x-positions\n",
    "    coords[:, [0, 2]] = coords[:, [1, 3]]\n",
    "    # Assign the preserved original x-values to y-positions\n",
    "    coords[:, [1, 3]] = original_x\n",
    "    return coords\n"
   ]
  },
  {
   "cell_type": "code",
   "execution_count": 14,
   "metadata": {},
   "outputs": [
    {
     "name": "stdout",
     "output_type": "stream",
     "text": [
      "Original Coordinates are:\n",
      "[[10  5 15  6  0]\n",
      " [11  3 13  6  0]\n",
      " [ 5  3 13  6  1]\n",
      " [ 4  4 13  6  1]\n",
      " [ 6  5 13 16  1]]\n",
      "\n",
      "Swapped Coordinates are:\n",
      "[[ 5 10  6 15  0]\n",
      " [ 3 11  6 13  0]\n",
      " [ 3  5  6 13  1]\n",
      " [ 4  4  6 13  1]\n",
      " [ 5  6 16 13  1]]\n"
     ]
    }
   ],
   "source": [
    "# Sample input and running\n",
    "coords = np.array([[10, 5, 15, 6, 0],\n",
    "                   [11, 3, 13, 6, 0],\n",
    "                   [5, 3, 13, 6, 1],\n",
    "                   [4, 4, 13, 6, 1],\n",
    "                   [6, 5, 13, 16, 1]])\n",
    "\n",
    "print(\"Original Coordinates are:\")\n",
    "print(coords)\n",
    "\n",
    "# Use copy to preserve the original for comparison\n",
    "swapped_coords = swap(coords.copy())\n",
    "\n",
    "print(\"\\nSwapped Coordinates are:\")\n",
    "print(swapped_coords)\n"
   ]
  },
  {
   "cell_type": "markdown",
   "metadata": {},
   "source": [
    "## Unit Test\n",
    "\n",
    "- **Test Structure**: The test class **`SwapFunctionTest`** extends **`unittest.TestCase`**, providing a framework for defining the test method **`test_swap_coordinates`**.\n",
    "- **Test Logic**: The method sets up an input array of bounding box coordinates, defines the expected result after the swap operation, and then asserts that the actual output from the **`swap`** function matches the expected array.\n",
    "- **Execution in Notebook**: The **`unittest.main(argv=[''], exit=False)`** call is adapted for Jupyter Notebook execution, preventing it from using irrelevant command-line arguments and stopping the notebook kernel after tests."
   ]
  },
  {
   "cell_type": "code",
   "execution_count": 23,
   "metadata": {},
   "outputs": [],
   "source": [
    "class SwapFunctionTest(unittest.TestCase):\n",
    "    \"\"\"Unit tests for the swap function to verify correct swapping of x and y coordinates.\"\"\"\n",
    "\n",
    "    def test_swap_coordinates(self):\n",
    "        \"\"\"Tests if the swap function correctly interchanges x and y coordinates.\"\"\"\n",
    "        # Input array with bounding box coordinates\n",
    "        input_coords = np.array([\n",
    "            [10, 5, 15, 6, 0],  # Example bounding box 1\n",
    "            [11, 3, 13, 6, 0],  # Example bounding box 2\n",
    "            # Add additional bounding boxes as needed\n",
    "        ])\n",
    "        # Expected output after swapping x and y coordinates\n",
    "        expected_output = np.array([\n",
    "            [5, 10, 6, 15, 0],  # Swapped bounding box 1\n",
    "            [3, 11, 6, 13, 0],  # Swapped bounding box 2\n",
    "            # Corresponding swapped bounding boxes\n",
    "        ])\n",
    "\n",
    "        # Perform the swap operation\n",
    "        actual_output = swap(input_coords.copy())\n",
    "\n",
    "        # Check if the actual swapped coordinates match the expected output\n",
    "        np.testing.assert_array_equal(actual_output, expected_output, \"The swap function failed to correctly interchange x and y coordinates.\")\n"
   ]
  },
  {
   "cell_type": "code",
   "execution_count": 24,
   "metadata": {},
   "outputs": [
    {
     "name": "stderr",
     "output_type": "stream",
     "text": [
      ".\n",
      "----------------------------------------------------------------------\n",
      "Ran 1 test in 0.001s\n",
      "\n",
      "OK\n"
     ]
    }
   ],
   "source": [
    "# Running the unit test in a Jupyter Notebook environment\n",
    "if __name__ == '__main__':\n",
    "    unittest.main(argv=['', 'SwapFunctionTest'], exit=False)"
   ]
  },
  {
   "cell_type": "markdown",
   "metadata": {},
   "source": [
    "--------------"
   ]
  },
  {
   "cell_type": "markdown",
   "metadata": {
    "nbgrader": {
     "grade": false,
     "grade_id": "a1f01da3-8770-45ca-8d36-92c35558dd17",
     "locked": true,
     "points": 1,
     "schema_version": 3,
     "solution": false,
     "task": false
    }
   },
   "source": [
    "<h1 id=\"exercise-3\"><strong>Exercise 3 Solution</strong></h1>\n"
   ]
  },
  {
   "cell_type": "markdown",
   "metadata": {},
   "source": [
    "## Problem\n",
    "\n",
    "The problem with the **`plot_data`** function as described stems from two main issues related to the handling of data from the CSV file and the plotting of that data:\n",
    "\n",
    "1. **Data Conversion Issue**: The **`results.append(row)`** line appends the row as a list of strings because data read from a CSV file using **`csv.reader`** are not automatically converted to numbers. This results in **`results`** being a list of string lists, which **`np.stack(results)`** then converts into a 2D numpy array of strings. This string array is not suitable for plotting, as matplotlib expects numerical values.\n",
    "2. **Incorrect Axes Assignment**: The plotting line **`plt.plot(results[:, 1], results[:, 0])`** plots the second column of **`results`** on the x-axis and the first column on the y-axis, which is the opposite of what is intended given the function's documentation. Precision should be on the x-axis, and recall should be on the y-axis.\n",
    "\n",
    "## Solutions\n",
    "\n",
    "1. **Convert Data to Floats**: When appending rows from the CSV file to **`results`**, convert each value to a float to ensure that the data are in the correct format for numerical operations and plotting.\n",
    "2. **Correct Axes for Plotting**: Swap the indices in the **`plt.plot`** call to correctly plot precision on the x-axis and recall on the y-axis.\n",
    "\n",
    "Here's the corrected version of the **`plot_data`** function with comments explaining the fixes:"
   ]
  },
  {
   "cell_type": "code",
   "execution_count": 26,
   "metadata": {},
   "outputs": [],
   "source": [
    "import csv\n",
    "\n",
    "def plot_data(csv_file_path: str):\n",
    "    \"\"\"\n",
    "    Plots a precision-recall curve based on data from a CSV file,\n",
    "    with precision on the x-axis and recall on the y-axis.\n",
    "    \"\"\"\n",
    "    # Initialize an empty list to store the converted numerical data\n",
    "    results = []\n",
    "    \n",
    "    # Open and read the CSV file\n",
    "    with open(csv_file_path) as result_csv:\n",
    "        csv_reader = csv.reader(result_csv, delimiter=',')\n",
    "        next(csv_reader)  # Skip the header row\n",
    "        \n",
    "        # Convert each row to float and append to results\n",
    "        for row in csv_reader:\n",
    "            results.append([float(row[0]), float(row[1])])  # Convert string to float\n",
    "    \n",
    "    # Convert the list of results into a numpy array for plotting\n",
    "    results = np.array(results)\n",
    "\n",
    "    # plt.plot(results[:, 0], results[:, 1], marker='o', linestyle='-', color='b')  # Added markers for clarity\n",
    "\n",
    "    # Plot the precision-recall curve with corrected axes assignment with added markers for clarity\n",
    "    plt.plot(results[:, 0], results[:, 1], marker='*')  # Correctly place precision on x-axis, recall on y-axis\n",
    "    plt.ylim([-0.05, 1.05])  # Set y-axis limits\n",
    "    plt.xlim([-0.05, 1.05])  # Set x-axis limits\n",
    "    plt.xlabel('Precision')  # Label x-axis\n",
    "    plt.ylabel('Recall')  # Label y-axis\n",
    "    plt.title('Precision-Recall Curve')  # Set plot title\n",
    "    plt.show()  # Display the plot\n"
   ]
  },
  {
   "cell_type": "code",
   "execution_count": 27,
   "metadata": {},
   "outputs": [
    {
     "data": {
      "image/png": "[encoded data removed]",
      "text/plain": [
       "<Figure size 640x480 with 1 Axes>"
      ]
     },
     "metadata": {},
     "output_type": "display_data"
    }
   ],
   "source": [
    "f = open(\"data_file.csv\", \"w\")\n",
    "w = csv.writer(f)\n",
    "_ = w.writerow([\"precision\", \"recall\"])\n",
    "w.writerows([[0.013,0.951],\n",
    "             [0.376,0.851],\n",
    "             [0.441,0.839],\n",
    "             [0.570,0.758],\n",
    "             [0.635,0.674],\n",
    "             [0.721,0.604],\n",
    "             [0.837,0.531],\n",
    "             [0.860,0.453],\n",
    "             [0.962,0.348],\n",
    "             [0.982,0.273],\n",
    "             [1.0,0.0]])\n",
    "f.close()\n",
    "plot_data('data_file.csv')"
   ]
  },
  {
   "cell_type": "markdown",
   "metadata": {},
   "source": [
    "## Unit Test\n",
    "\n",
    "- **setUp Method**: Explains the creation of a temporary CSV file with predefined data for testing the **`plot_data`** function.\n",
    "- **test_plot_data_from_csv Method**: Describes the aim to test the data handling logic of **`plot_data`**, acknowledging the limitation that graphical output cannot be verified through this test.\n",
    "- **tearDown Method**: Clarifies the cleanup process by deleting the temporary CSV file used for testing to maintain a clean environment.\n",
    "- **Running the Test in Jupyter**: Offers guidance on how to execute the unit test within a Jupyter Notebook environment."
   ]
  },
  {
   "cell_type": "code",
   "execution_count": 32,
   "metadata": {},
   "outputs": [],
   "source": [
    "class TestPlotData(unittest.TestCase):\n",
    "    \"\"\"\n",
    "    Defines a unit test case for the plot_data function to ensure it correctly processes\n",
    "    data from a CSV file and plots the precision-recall curve.\n",
    "    \"\"\"\n",
    "    \n",
    "    def setUp(self):\n",
    "        \"\"\"\n",
    "        Prepares the testing environment before each test method is executed.\n",
    "        This involves creating a temporary CSV file with test data.\n",
    "        \"\"\"\n",
    "        # Sample CSV file path\n",
    "        self.csv_file_path = \"temp_test_data.csv\"\n",
    "        # Test data to be written to the CSV file\n",
    "        self.test_data = [\n",
    "            [\"precision\", \"recall\"],  # Header row\n",
    "            [\"0.1\", \"0.9\"],\n",
    "            [\"0.4\", \"0.85\"],\n",
    "            [\"0.9\", \"0.2\"]\n",
    "        ]\n",
    "        \n",
    "        # Write the test data to a CSV file\n",
    "        with open(self.csv_file_path, 'w', newline='') as file:\n",
    "            writer = csv.writer(file)\n",
    "            writer.writerows(self.test_data)\n",
    "    \n",
    "    def test_plot_data_from_csv(self):\n",
    "        \"\"\"\n",
    "        Tests the plot_data function's ability to read and process data from a CSV file.\n",
    "        \n",
    "        Note: This test verifies data handling aspects of the plot_data function. Direct\n",
    "        verification of the plotted output is not within the scope of this unit test.\n",
    "        \"\"\"\n",
    "        # Attempt to run the plot_data function with the temporary CSV file\n",
    "        try:\n",
    "            plot_data(self.csv_file_path)\n",
    "        except Exception as e:\n",
    "            self.fail(f\"plot_data function raised an exception: {e}\")\n",
    "    \n",
    "    def tearDown(self):\n",
    "        \"\"\"\n",
    "        Cleans up the testing environment after each test method is executed by removing\n",
    "        the temporary CSV file.\n",
    "        \"\"\"\n",
    "        # Remove the temporary CSV file if it exists\n",
    "        if os.path.exists(self.csv_file_path):\n",
    "            os.remove(self.csv_file_path)\n"
   ]
  },
  {
   "cell_type": "code",
   "execution_count": 35,
   "metadata": {},
   "outputs": [
    {
     "data": {
      "image/png": "[encoded data removed]",
      "text/plain": [
       "<Figure size 640x480 with 1 Axes>"
      ]
     },
     "metadata": {},
     "output_type": "display_data"
    },
    {
     "name": "stderr",
     "output_type": "stream",
     "text": [
      ".\n",
      "----------------------------------------------------------------------\n",
      "Ran 1 test in 0.195s\n",
      "\n",
      "OK\n"
     ]
    }
   ],
   "source": [
    "# This part ensures the unit test runs only when this script is executed directly\n",
    "if __name__ == '__main__':\n",
    "    unittest.main(argv=['', 'TestPlotData'], exit=False)"
   ]
  },
  {
   "cell_type": "markdown",
   "metadata": {},
   "source": [
    "----------------"
   ]
  },
  {
   "cell_type": "markdown",
   "metadata": {
    "nbgrader": {
     "grade": false,
     "grade_id": "eabb4be5-9c19-44d2-a468-21d8adb038b2",
     "locked": true,
     "points": 1,
     "schema_version": 3,
     "solution": false,
     "task": false
    }
   },
   "source": [
    "<h1 id=\"exercise-4\"><strong>Exercise 4 Solution</strong></h1>\n"
   ]
  },
  {
   "cell_type": "markdown",
   "metadata": {},
   "source": [
    "## Problems and Solutions\n",
    "\n",
    "### Resolving the Batch Size Discrepancy\n",
    "\n",
    "1. **Problem Overview**: Altering the **`batch_size`** parameter to 64 triggers an error due to a disparity between the expected sizes of inputs and targets during the training phases. This problem usually emerges where the loss is calculated, highlighting an inconsistency in the dimensions expected by the model versus those provided.\n",
    "    \n",
    "    **Root Cause**: This discrepancy arises because the discriminator receives a combined set of real and artificially generated samples, doubling the input size it needs to evaluate. The adjustment needed for the size of labels (**`real_samples_labels`** and **`generated_samples_labels`**) to mirror this doubled input size is missing, leading to the observed error.\n",
    "    \n",
    "    **Rectification Strategy**: To fix this, it's necessary to dynamically adjust the sizes of the label tensors to match the combined input size when feeding data into the discriminator. This adjustment ensures that the dimensions of inputs and corresponding labels align, facilitating error-free training progression.\n",
    "    \n",
    "\n",
    "### Addressing the Cosmetic Issue in Image Visualization\n",
    "\n",
    "1. **Issue Identification**: The minor or cosmetic issue pertains to how the generated images are displayed during the training process.\n",
    "    \n",
    "    **Specific Concern**: In environments like Jupyter Notebooks, where outputs are dynamically displayed within the interface, the expected behavior is for old plots of generated images to be replaced with new ones periodically (such as at the conclusion of each training epoch). However, if not managed properly, this process can clutter the output with outdated images.\n",
    "    \n",
    "    **Proposed Solution**: Implementing **`clear_output(wait=True)`** from the IPython.display library can effectively manage this by clearing old images before new ones are plotted. This method ensures that only the most recent set of images is visible, keeping the output streamlined and focused on the current state of image generation by the GAN."
   ]
  },
  {
   "cell_type": "code",
   "execution_count": 4,
   "metadata": {},
   "outputs": [],
   "source": [
    "# Remained unchanged\n",
    "\n",
    "class Generator(nn.Module):\n",
    "    \"\"\"\n",
    "    Generator class for the GAN\n",
    "    \"\"\"\n",
    "\n",
    "    def __init__(self):\n",
    "        super().__init__()\n",
    "        self.model = nn.Sequential(\n",
    "            nn.Linear(100, 256),\n",
    "            nn.ReLU(),\n",
    "            nn.Linear(256, 512),\n",
    "            nn.ReLU(),\n",
    "            nn.Linear(512, 1024),\n",
    "            nn.ReLU(),\n",
    "            nn.Linear(1024, 784),\n",
    "            nn.Tanh(),\n",
    "        )\n",
    "\n",
    "    def forward(self, x):\n",
    "        output = self.model(x)\n",
    "        output = output.view(x.size(0), 1, 28, 28)\n",
    "        return output"
   ]
  },
  {
   "cell_type": "code",
   "execution_count": 5,
   "metadata": {},
   "outputs": [],
   "source": [
    "# Remained unchanged\n",
    "\n",
    "class Discriminator(nn.Module):\n",
    "    \"\"\"\n",
    "    Discriminator class for the GAN\n",
    "    \"\"\"\n",
    "    def __init__(self):\n",
    "        super().__init__()\n",
    "        self.model = nn.Sequential(\n",
    "            nn.Linear(784, 1024),\n",
    "            nn.ReLU(),\n",
    "            nn.Dropout(0.3),\n",
    "            nn.Linear(1024, 512),\n",
    "            nn.ReLU(),\n",
    "            nn.Dropout(0.3),\n",
    "            nn.Linear(512, 256),\n",
    "            nn.ReLU(),\n",
    "            nn.Dropout(0.3),\n",
    "            nn.Linear(256, 1),\n",
    "            nn.Sigmoid(),\n",
    "        )\n",
    "\n",
    "    def forward(self, x):\n",
    "        x = x.view(x.size(0), 784)\n",
    "        output = self.model(x)\n",
    "        return output"
   ]
  },
  {
   "cell_type": "code",
   "execution_count": 6,
   "metadata": {},
   "outputs": [],
   "source": [
    "def train_gan(batch_size: int = 32, num_epochs: int = 100, device: str = \"cuda:0\" if torch.cuda.is_available() else \"cpu\"):\n",
    "\n",
    "    # Add/adjust code.\n",
    "\n",
    "    transform = transforms.Compose([transforms.ToTensor(), transforms.Normalize((0.5,), (0.5,))])\n",
    "\n",
    "    try:\n",
    "        train_set = torchvision.datasets.MNIST(root=\".\", train=True, download=True, transform=transform)\n",
    "    except:\n",
    "        print(\"Failed to download MNIST, retrying with different URL\")\n",
    "        # see: https://github.com/pytorch/vision/blob/master/torchvision/datasets/mnist.py\n",
    "        torchvision.datasets.MNIST.resources = [\n",
    "            ('https://ossci-datasets.s3.amazonaws.com/mnist/train-images-idx3-ubyte.gz',\n",
    "             'f68b3c2dcbeaaa9fbdd348bbdeb94873'),\n",
    "            ('https://ossci-datasets.s3.amazonaws.com/mnist/train-labels-idx1-ubyte.gz',\n",
    "             'd53e105ee54ea40749a09fcbcd1e9432'),\n",
    "            ('https://ossci-datasets.s3.amazonaws.com/mnist/t10k-images-idx3-ubyte.gz',\n",
    "             '9fb629c4189551a2d022fa330f9573f3'),\n",
    "            ('https://ossci-datasets.s3.amazonaws.com/mnist/t10k-labels-idx1-ubyte.gz',\n",
    "             'ec29112dd5afa0611ce80d1b7f02629c')\n",
    "        ]\n",
    "        train_set = torchvision.datasets.MNIST(root=\".\", train=True, download=True, transform=transform)\n",
    "\n",
    "    train_loader = torch.utils.data.DataLoader(train_set, batch_size=batch_size, shuffle=True)\n",
    "\n",
    "    # example data\n",
    "    real_samples, mnist_labels = next(iter(train_loader))\n",
    "\n",
    "    fig = plt.figure()\n",
    "    for i in range(16):\n",
    "        sub = fig.add_subplot(4, 4, 1 + i)\n",
    "        sub.imshow(real_samples[i].reshape(28, 28), cmap=\"gray_r\")\n",
    "        sub.axis('off')\n",
    "\n",
    "    fig.tight_layout()\n",
    "    fig.suptitle(\"Real images\")\n",
    "    display(fig)\n",
    "\n",
    "    time.sleep(5)\n",
    "\n",
    "    # Set up training\n",
    "    discriminator = Discriminator().to(device)\n",
    "    generator = Generator().to(device)\n",
    "    lr = 0.0001\n",
    "    loss_function = nn.BCELoss()\n",
    "    optimizer_discriminator = torch.optim.Adam(discriminator.parameters(), lr=lr)\n",
    "    optimizer_generator = torch.optim.Adam(generator.parameters(), lr=lr)\n",
    "\n",
    "    \n",
    "    # train - Loop over the dataset multiple times, each loop is an epoch.\n",
    "    for epoch in range(num_epochs):\n",
    "        # Enumerate over the data loader to get batches of real images and labels.\n",
    "        for n, (real_samples, mnist_labels) in enumerate(train_loader):\n",
    "            # Dynamic adjustment for the batch size, particularly for the last batch that may be smaller.\n",
    "            current_batch_size = real_samples.size(0)\n",
    "    \n",
    "            # Move the real samples to the specified device (GPU or CPU).\n",
    "            real_samples = real_samples.to(device=device)\n",
    "            # Create labels for real samples (1s) with the correct batch size.\n",
    "            real_samples_labels = torch.ones((current_batch_size, 1), device=device)\n",
    "            \n",
    "            # Generate latent space samples (random noise) for the generator.\n",
    "            latent_space_samples = torch.randn((current_batch_size, 100), device=device)\n",
    "            # Generate fake images from the latent space samples.\n",
    "            generated_samples = generator(latent_space_samples)\n",
    "            # Create labels for generated samples (0s) to match the batch size.\n",
    "            generated_samples_labels = torch.zeros((current_batch_size, 1), device=device)\n",
    "    \n",
    "            # Concatenate the real images with the generated images to form a single batch.\n",
    "            all_samples = torch.cat((real_samples, generated_samples), dim=0)\n",
    "            # Similarly, concatenate the labels for real and generated images.\n",
    "            all_samples_labels = torch.cat((real_samples_labels, generated_samples_labels), dim=0)\n",
    "    \n",
    "            # Zero the gradients of the discriminator before the forward pass.\n",
    "            discriminator.zero_grad()\n",
    "            # Forward pass the concatenated images through the discriminator.\n",
    "            output_discriminator = discriminator(all_samples)\n",
    "            # Calculate the loss for the discriminator based on its output.\n",
    "            loss_discriminator = loss_function(output_discriminator, all_samples_labels)\n",
    "            # Backpropagate the loss for the discriminator and update its weights.\n",
    "            loss_discriminator.backward()\n",
    "            optimizer_discriminator.step()\n",
    "    \n",
    "            # Prepare new latent space samples for generating images to train the generator.\n",
    "            latent_space_samples = torch.randn((current_batch_size, 100), device=device)\n",
    "    \n",
    "            # Zero the gradients of the generator before the forward pass.\n",
    "            generator.zero_grad()\n",
    "            # Generate new images to be used for training the generator.\n",
    "            generated_samples = generator(latent_space_samples)\n",
    "            # Pass the generated images through the discriminator to get the classification.\n",
    "            output_discriminator_generated = discriminator(generated_samples)\n",
    "            # Calculate the loss for the generator based on the discriminator's output.\n",
    "            loss_generator = loss_function(output_discriminator_generated, real_samples_labels)\n",
    "            # Backpropagate the loss for the generator and update its weights.\n",
    "            loss_generator.backward()\n",
    "            optimizer_generator.step()\n",
    "    \n",
    "            # Correctly clear and display the generated images\n",
    "            if n == len(train_loader) - 1:  # Updated condition to check if it's the last batch in the epoch\n",
    "                name = f\"Generate images\\n Epoch: {epoch} Loss D.: {loss_discriminator:.2f} Loss G.: {loss_generator:.2f}\"\n",
    "                generated_samples = generated_samples.detach().cpu().numpy()\n",
    "                fig = plt.figure()\n",
    "                for i in range(16):\n",
    "                    sub = fig.add_subplot(4, 4, 1 + i)\n",
    "                    sub.imshow(generated_samples[i].reshape(28, 28), cmap=\"gray_r\")\n",
    "                    sub.axis('off')\n",
    "                fig.suptitle(name)\n",
    "                fig.tight_layout()\n",
    "                clear_output(wait=False)\n",
    "                display(fig)"
   ]
  },
  {
   "cell_type": "code",
   "execution_count": null,
   "metadata": {},
   "outputs": [
    {
     "data": {
      "image/png": "[encoded data removed]",
      "text/plain": [
       "<Figure size 640x480 with 16 Axes>"
      ]
     },
     "metadata": {},
     "output_type": "display_data"
    }
   ],
   "source": [
    "train_gan(batch_size=64, num_epochs=100)"
   ]
  },
  {
   "cell_type": "markdown",
   "metadata": {},
   "source": [
    "# Unit Test\n",
    "\n",
    "A basic approach is to verify that the **`Generator`** produces outputs of the correct shape and that the **`Discriminator`** can accept those outputs and return a valid prediction.\n",
    "\n",
    "- **Generator Output Shape**: This test verifies that the generator produces outputs with the correct dimensions. Given a batch of random noise vectors, it checks if the generator's output matches the expected shape, which should align with the input dimensions of the discriminator and the expected image size (in this case, MNIST images of 28x28 pixels).\n",
    "- **Discriminator Output Shape**: This test checks whether the discriminator provides a prediction for each input image in a batch. It ensures that, given a batch of images, the discriminator's output is a tensor with one prediction per image."
   ]
  },
  {
   "cell_type": "code",
   "execution_count": 11,
   "metadata": {},
   "outputs": [],
   "source": [
    "class TestGANComponents(unittest.TestCase):\n",
    "    \"\"\"\n",
    "    This test class focuses on verifying the basic functionality\n",
    "    of the Generator and Discriminator components of the GAN.\n",
    "    \"\"\"\n",
    "    \n",
    "    def test_generator_output_shape(self):\n",
    "        \"\"\"\n",
    "        Test if the Generator produces output with the expected shape.\n",
    "        \"\"\"\n",
    "        # Initialize a generator instance\n",
    "        generator = Generator()\n",
    "        \n",
    "        # Create a batch of random noise vectors\n",
    "        random_noise = torch.randn(10, 100)  # Batch size of 10, noise dimension of 100\n",
    "        \n",
    "        # Generate images from the noise vectors\n",
    "        generated_images = generator(random_noise)\n",
    "        \n",
    "        # Check if the generated images have the expected shape (batch_size, channels, height, width)\n",
    "        self.assertEqual(generated_images.size(), (10, 1, 28, 28),\n",
    "                         \"Generated images should have shape [10, 1, 28, 28]\")\n",
    "    \n",
    "    def test_discriminator_output_shape(self):\n",
    "        \"\"\"\n",
    "        Test if the Discriminator returns a prediction for each image in a batch.\n",
    "        \"\"\"\n",
    "        # Initialize a discriminator instance\n",
    "        discriminator = Discriminator()\n",
    "        \n",
    "        # Create a batch of fake images (assuming the same size as MNIST images)\n",
    "        fake_images = torch.randn(10, 1, 28, 28)  # Batch size of 10, 1 channel, 28x28 images\n",
    "        \n",
    "        # Pass the fake images through the discriminator\n",
    "        predictions = discriminator(fake_images)\n",
    "        \n",
    "        # Check if the discriminator returns a prediction for each image in the batch\n",
    "        self.assertEqual(predictions.size(), (10, 1),\n",
    "                         \"Discriminator should return a prediction for each image in the batch\")\n",
    "        "
   ]
  },
  {
   "cell_type": "code",
   "execution_count": 12,
   "metadata": {},
   "outputs": [
    {
     "name": "stderr",
     "output_type": "stream",
     "text": [
      "..\n",
      "----------------------------------------------------------------------\n",
      "Ran 2 tests in 0.053s\n",
      "\n",
      "OK\n"
     ]
    }
   ],
   "source": [
    "# This enables running the tests from the command line\n",
    "if __name__ == '__main__':\n",
    "    unittest.main(argv=['', 'TestGANComponents'], exit=False)"
   ]
  }
 ],
 "metadata": {
  "celltoolbar": "Create Assignment",
  "kernelspec": {
   "display_name": "Python 3 (ipykernel)",
   "language": "python",
   "name": "python3"
  },
  "language_info": {
   "codemirror_mode": {
    "name": "ipython",
    "version": 3
   },
   "file_extension": ".py",
   "mimetype": "text/x-python",
   "name": "python",
   "nbconvert_exporter": "python",
   "pygments_lexer": "ipython3",
   "version": "3.11.5"
  }
 },
 "nbformat": 4,
 "nbformat_minor": 4
}
